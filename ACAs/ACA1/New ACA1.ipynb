{
 "cells": [
  {
   "cell_type": "code",
   "execution_count": 24,
   "id": "92bc5432",
   "metadata": {},
   "outputs": [],
   "source": [
    "import pandas as pd\n",
    "import numpy as np"
   ]
  },
  {
   "cell_type": "code",
   "execution_count": 25,
   "id": "df83bda0",
   "metadata": {},
   "outputs": [
    {
     "name": "stderr",
     "output_type": "stream",
     "text": [
      "/Users/mark/opt/anaconda3/lib/python3.8/site-packages/IPython/core/interactiveshell.py:3165: DtypeWarning: Columns (7,9,1427,1542,1561,1575,1725,1726,1727,1728) have mixed types.Specify dtype option on import or set low_memory=False.\n",
      "  has_raised = await self.run_ast_nodes(code_ast.body, cell_name,\n"
     ]
    }
   ],
   "source": [
    "Score_card = pd.read_csv(\"CollegeScorecard.csv\")\n",
    "Crime_rate = pd.read_csv(\"Crime_2015.csv\")"
   ]
  },
  {
   "cell_type": "markdown",
   "id": "dcc49937",
   "metadata": {},
   "source": [
    "We want to combine the two data sets by Cities, so we need to check if the columns names are identical."
   ]
  },
  {
   "cell_type": "code",
   "execution_count": 26,
   "id": "aa4b7785",
   "metadata": {},
   "outputs": [
    {
     "name": "stdout",
     "output_type": "stream",
     "text": [
      "Index(['UNITID', 'OPEID', 'opeid6', 'INSTNM', 'CITY', 'STABBR', 'ZIP',\n",
      "       'AccredAgency', 'INSTURL', 'NPCURL', 'sch_deg', 'HCM2', 'main',\n",
      "       'NUMBRANCH', 'PREDDEG', 'HIGHDEG', 'CONTROL', 'st_fips', 'region',\n",
      "       'LOCALE'],\n",
      "      dtype='object')\n",
      "Index(['MSA', 'ViolentCrime', 'Murder', 'Rape', 'Robbery', 'AggravatedAssault',\n",
      "       'PropertyCrime', 'Burglary', 'Theft', 'MotorVehicleTheft', 'State',\n",
      "       'City'],\n",
      "      dtype='object')\n"
     ]
    }
   ],
   "source": [
    "print(Score_card.columns [: 20])\n",
    "print(Crime_rate.columns [:20])"
   ]
  },
  {
   "cell_type": "markdown",
   "id": "c1b6c038",
   "metadata": {},
   "source": [
    "We can see  that two columns names in different data sets are not identical, so we need to rename one of it. "
   ]
  },
  {
   "cell_type": "code",
   "execution_count": 27,
   "id": "485c5351",
   "metadata": {},
   "outputs": [],
   "source": [
    "Crime_rate = Crime_rate.rename ({'City':'CITY'}, axis = 1)"
   ]
  },
  {
   "cell_type": "markdown",
   "id": "0ecd0f76",
   "metadata": {},
   "source": [
    "### Data cleaning process: \n",
    "* firstly, we want to combine two data sets \n",
    "* Secondly, we need to extract the information we will analysis\n"
   ]
  },
  {
   "cell_type": "code",
   "execution_count": 28,
   "id": "48cc0921",
   "metadata": {},
   "outputs": [
    {
     "data": {
      "text/plain": [
       "(8687, 1740)"
      ]
     },
     "execution_count": 28,
     "metadata": {},
     "output_type": "execute_result"
    }
   ],
   "source": [
    "mdf = pd.merge(Crime_rate, Score_card, how='right', on='CITY')\n",
    "mdf.shape"
   ]
  },
  {
   "cell_type": "markdown",
   "id": "a110757a",
   "metadata": {},
   "source": [
    "We have combined the two data sets. There are 8687 rows (institutions), and 1740 rows."
   ]
  },
  {
   "cell_type": "markdown",
   "id": "d8fff792",
   "metadata": {},
   "source": [
    "Now we want to extract the information we want. We are going to filter institutions by city size, safety of the city, diversity of the school, and quality of the school. "
   ]
  },
  {
   "cell_type": "markdown",
   "id": "ea646668",
   "metadata": {},
   "source": [
    "#### Let's organize the data first. "
   ]
  },
  {
   "cell_type": "markdown",
   "id": "44c555c1",
   "metadata": {},
   "source": [
    "Firstly, We are going to analyze the safety of the city by the number of murder, rape, Robbery, Aggravated Assult, and MotorVehicleTheft. Thus, we can create a column by combining all of them. "
   ]
  },
  {
   "cell_type": "code",
   "execution_count": 29,
   "id": "6257c264",
   "metadata": {},
   "outputs": [],
   "source": [
    "mdf['Crime_total'] = mdf[\"Murder\"]+mdf['Rape']+mdf['Robbery']+mdf['AggravatedAssault']+mdf['MotorVehicleTheft']"
   ]
  },
  {
   "cell_type": "markdown",
   "id": "a16eb419",
   "metadata": {},
   "source": [
    "Secondly, we are going to analyze the diversity of the school by figuring out if the school has restriction of race.  We discard all the institutions that have religious affiliations, and we only keep the institutions that do not have religious affiliations in our list. Also, we are excluding institutions that consist of predominantly one race, e.g. Flag for Historically Black College and University. Thus, we are going to combine the columns about the school stypes which have restriction on race.  "
   ]
  },
  {
   "cell_type": "code",
   "execution_count": 30,
   "id": "eb754a0c",
   "metadata": {},
   "outputs": [],
   "source": [
    "mdf['Race_score'] = mdf['HBCU'] + mdf['PBI'] + mdf['ANNHI'] + mdf['TRIBAL'] + mdf['AANAPII'] + mdf['HSI'] + mdf['NANTI'] + mdf['MENONLY']+ mdf['WOMENONLY']"
   ]
  },
  {
   "cell_type": "markdown",
   "id": "6a07517e",
   "metadata": {},
   "source": [
    "Now, we want to extract the data which is useful for our filtering. All our judege is based on Local, Crime_total, average faculty salary, Percentage of full time Faculty, and races, so we extract those first. "
   ]
  },
  {
   "cell_type": "code",
   "execution_count": 31,
   "id": "78ba0e5d",
   "metadata": {},
   "outputs": [],
   "source": [
    "newmdf = mdf.filter(['INSTNM', 'CITY','Crime_total','LOCALE','AVGFACSAL', 'PFTFAC', 'Race_score', 'RELAFFIL'], axis=1)"
   ]
  },
  {
   "cell_type": "markdown",
   "id": "3202dd79",
   "metadata": {},
   "source": [
    "Now, the new dataset(newmdf) contains the types of information that we want to analyze. "
   ]
  },
  {
   "cell_type": "code",
   "execution_count": 32,
   "id": "57e99ef8",
   "metadata": {},
   "outputs": [
    {
     "data": {
      "text/plain": [
       "(8687, 8)"
      ]
     },
     "execution_count": 32,
     "metadata": {},
     "output_type": "execute_result"
    }
   ],
   "source": [
    "newmdf.shape"
   ]
  },
  {
   "cell_type": "markdown",
   "id": "1846264c",
   "metadata": {},
   "source": [
    "The number of rows is still 8687, but the columns are 8 now. All those 8 columns are the types of information we are going to use to filter. "
   ]
  },
  {
   "cell_type": "markdown",
   "id": "d9b382a0",
   "metadata": {},
   "source": [
    "#### Data filtering:"
   ]
  },
  {
   "cell_type": "markdown",
   "id": "7e9f305e",
   "metadata": {},
   "source": [
    "Our rubric to filter school is following: \n",
    "\n",
    "* Safety:\n",
    "\n",
    "In order to address Alex’s needs of safety, which is reflected by low crime rate, we ordered all the categories in the crime_2015 dataset, and we only keep the institutions in which the cities are among the lower half of all cities (50%) in all of the crime rate categories.\n",
    "\n",
    "* Urban:\n",
    "\n",
    "In order to address Alex’s expectations to live a big city life, we use the index of “locale of institution”, and we only keep the institutions who are categorized as “City: Large (population of 250,000 or more)” in our list.\n",
    "\n",
    "* Diversity:\n",
    "\n",
    "Religion: Religious affiliation of the institution - we would like to set the “Religious affiliation of the institution” as “-2: Not applicable”\n",
    "\n",
    "Gender: Flag for men-only college/Flag for women-only college - exclude school with either value of “1” (Yes)\n",
    "\n",
    "\n",
    "* Quality:\n",
    "\n",
    "Faculty\n",
    "Average Faculty salary - we are only keeping the institutions who are in the higher half among all institutions regarding average faculty salary - we regard this as a reflection of the institutions’ economic strength\n",
    "Proportion of faculty that is full-time - we are only keeping stitutions that are in the higher half of the list regarding proportion of full time faculty - since we think this is a reflection of the institution’s ability to attract faculty, and the stability of the staff\n"
   ]
  },
  {
   "cell_type": "markdown",
   "id": "522cf2fc",
   "metadata": {},
   "source": [
    "Now, we need to see the descriptive of the data set in order to set limits to filter. "
   ]
  },
  {
   "cell_type": "code",
   "execution_count": 35,
   "id": "dc732e1a",
   "metadata": {},
   "outputs": [
    {
     "data": {
      "text/html": [
       "<div>\n",
       "<style scoped>\n",
       "    .dataframe tbody tr th:only-of-type {\n",
       "        vertical-align: middle;\n",
       "    }\n",
       "\n",
       "    .dataframe tbody tr th {\n",
       "        vertical-align: top;\n",
       "    }\n",
       "\n",
       "    .dataframe thead th {\n",
       "        text-align: right;\n",
       "    }\n",
       "</style>\n",
       "<table border=\"1\" class=\"dataframe\">\n",
       "  <thead>\n",
       "    <tr style=\"text-align: right;\">\n",
       "      <th></th>\n",
       "      <th>INSTNM</th>\n",
       "      <th>CITY</th>\n",
       "      <th>Crime_total</th>\n",
       "      <th>LOCALE</th>\n",
       "      <th>AVGFACSAL</th>\n",
       "      <th>PFTFAC</th>\n",
       "      <th>Race_score</th>\n",
       "      <th>RELAFFIL</th>\n",
       "    </tr>\n",
       "  </thead>\n",
       "  <tbody>\n",
       "    <tr>\n",
       "      <th>count</th>\n",
       "      <td>8687</td>\n",
       "      <td>8687</td>\n",
       "      <td>4211.000000</td>\n",
       "      <td>8213.000000</td>\n",
       "      <td>5194.000000</td>\n",
       "      <td>4596.000000</td>\n",
       "      <td>8216.000000</td>\n",
       "      <td>1036.000000</td>\n",
       "    </tr>\n",
       "    <tr>\n",
       "      <th>unique</th>\n",
       "      <td>7634</td>\n",
       "      <td>2545</td>\n",
       "      <td>NaN</td>\n",
       "      <td>NaN</td>\n",
       "      <td>NaN</td>\n",
       "      <td>NaN</td>\n",
       "      <td>NaN</td>\n",
       "      <td>NaN</td>\n",
       "    </tr>\n",
       "    <tr>\n",
       "      <th>top</th>\n",
       "      <td>Marinello School of Beauty</td>\n",
       "      <td>Springfield</td>\n",
       "      <td>NaN</td>\n",
       "      <td>NaN</td>\n",
       "      <td>NaN</td>\n",
       "      <td>NaN</td>\n",
       "      <td>NaN</td>\n",
       "      <td>NaN</td>\n",
       "    </tr>\n",
       "    <tr>\n",
       "      <th>freq</th>\n",
       "      <td>14</td>\n",
       "      <td>172</td>\n",
       "      <td>NaN</td>\n",
       "      <td>NaN</td>\n",
       "      <td>NaN</td>\n",
       "      <td>NaN</td>\n",
       "      <td>NaN</td>\n",
       "      <td>NaN</td>\n",
       "    </tr>\n",
       "    <tr>\n",
       "      <th>mean</th>\n",
       "      <td>NaN</td>\n",
       "      <td>NaN</td>\n",
       "      <td>644.002968</td>\n",
       "      <td>19.012541</td>\n",
       "      <td>6004.462457</td>\n",
       "      <td>0.566776</td>\n",
       "      <td>0.060370</td>\n",
       "      <td>54.000965</td>\n",
       "    </tr>\n",
       "    <tr>\n",
       "      <th>std</th>\n",
       "      <td>NaN</td>\n",
       "      <td>NaN</td>\n",
       "      <td>271.460422</td>\n",
       "      <td>9.237607</td>\n",
       "      <td>2259.112032</td>\n",
       "      <td>0.311286</td>\n",
       "      <td>0.242742</td>\n",
       "      <td>20.905192</td>\n",
       "    </tr>\n",
       "    <tr>\n",
       "      <th>min</th>\n",
       "      <td>NaN</td>\n",
       "      <td>NaN</td>\n",
       "      <td>104.500000</td>\n",
       "      <td>11.000000</td>\n",
       "      <td>269.000000</td>\n",
       "      <td>0.000000</td>\n",
       "      <td>0.000000</td>\n",
       "      <td>22.000000</td>\n",
       "    </tr>\n",
       "    <tr>\n",
       "      <th>25%</th>\n",
       "      <td>NaN</td>\n",
       "      <td>NaN</td>\n",
       "      <td>449.700000</td>\n",
       "      <td>11.000000</td>\n",
       "      <td>4452.500000</td>\n",
       "      <td>0.295000</td>\n",
       "      <td>0.000000</td>\n",
       "      <td>30.000000</td>\n",
       "    </tr>\n",
       "    <tr>\n",
       "      <th>50%</th>\n",
       "      <td>NaN</td>\n",
       "      <td>NaN</td>\n",
       "      <td>614.100000</td>\n",
       "      <td>13.000000</td>\n",
       "      <td>5792.000000</td>\n",
       "      <td>0.535700</td>\n",
       "      <td>0.000000</td>\n",
       "      <td>54.000000</td>\n",
       "    </tr>\n",
       "    <tr>\n",
       "      <th>75%</th>\n",
       "      <td>NaN</td>\n",
       "      <td>NaN</td>\n",
       "      <td>821.100000</td>\n",
       "      <td>21.000000</td>\n",
       "      <td>7231.500000</td>\n",
       "      <td>0.875000</td>\n",
       "      <td>0.000000</td>\n",
       "      <td>71.000000</td>\n",
       "    </tr>\n",
       "    <tr>\n",
       "      <th>max</th>\n",
       "      <td>NaN</td>\n",
       "      <td>NaN</td>\n",
       "      <td>1565.200000</td>\n",
       "      <td>43.000000</td>\n",
       "      <td>23611.000000</td>\n",
       "      <td>1.000000</td>\n",
       "      <td>2.000000</td>\n",
       "      <td>103.000000</td>\n",
       "    </tr>\n",
       "  </tbody>\n",
       "</table>\n",
       "</div>"
      ],
      "text/plain": [
       "                            INSTNM         CITY  Crime_total       LOCALE  \\\n",
       "count                         8687         8687  4211.000000  8213.000000   \n",
       "unique                        7634         2545          NaN          NaN   \n",
       "top     Marinello School of Beauty  Springfield          NaN          NaN   \n",
       "freq                            14          172          NaN          NaN   \n",
       "mean                           NaN          NaN   644.002968    19.012541   \n",
       "std                            NaN          NaN   271.460422     9.237607   \n",
       "min                            NaN          NaN   104.500000    11.000000   \n",
       "25%                            NaN          NaN   449.700000    11.000000   \n",
       "50%                            NaN          NaN   614.100000    13.000000   \n",
       "75%                            NaN          NaN   821.100000    21.000000   \n",
       "max                            NaN          NaN  1565.200000    43.000000   \n",
       "\n",
       "           AVGFACSAL       PFTFAC   Race_score     RELAFFIL  \n",
       "count    5194.000000  4596.000000  8216.000000  1036.000000  \n",
       "unique           NaN          NaN          NaN          NaN  \n",
       "top              NaN          NaN          NaN          NaN  \n",
       "freq             NaN          NaN          NaN          NaN  \n",
       "mean     6004.462457     0.566776     0.060370    54.000965  \n",
       "std      2259.112032     0.311286     0.242742    20.905192  \n",
       "min       269.000000     0.000000     0.000000    22.000000  \n",
       "25%      4452.500000     0.295000     0.000000    30.000000  \n",
       "50%      5792.000000     0.535700     0.000000    54.000000  \n",
       "75%      7231.500000     0.875000     0.000000    71.000000  \n",
       "max     23611.000000     1.000000     2.000000   103.000000  "
      ]
     },
     "execution_count": 35,
     "metadata": {},
     "output_type": "execute_result"
    }
   ],
   "source": [
    "newmdf_describe = newmdf.describe(include = 'all')\n",
    "newmdf_describe"
   ]
  },
  {
   "cell_type": "markdown",
   "id": "94f0a9d0",
   "metadata": {},
   "source": [
    "We now need to define some values with name because this is a way to make the code reproducible. "
   ]
  },
  {
   "cell_type": "code",
   "execution_count": 36,
   "id": "427a4e7a",
   "metadata": {},
   "outputs": [],
   "source": [
    "Crime_total_mean = newmdf_describe.loc['mean', 'Crime_total']\n",
    "AVGFACSAL_mean = newmdf_describe.loc['mean', 'AVGFACSAL']\n",
    "PFTFAV_mean = newmdf_describe.loc['mean', 'PFTFAC']\n",
    "Race_score_mean = newmdf_describe.loc['mean', 'Race_score']\n",
    "RELAFFIL_mean = newmdf_describe.loc['mean', 'RELAFFIL']"
   ]
  },
  {
   "cell_type": "markdown",
   "id": "5eb5e6ee",
   "metadata": {},
   "source": [
    "We want to get targeted schools for Alex by our rubric. "
   ]
  },
  {
   "cell_type": "code",
   "execution_count": 39,
   "id": "32f79add",
   "metadata": {},
   "outputs": [],
   "source": [
    "target_places = (newmdf['Crime_total'] < Crime_total_mean) & (newmdf['LOCALE'] == 11) & (newmdf['AVGFACSAL'] > AVGFACSAL_mean) & (newmdf['Race_score'] == 0) & (newmdf['PFTFAC'] > PFTFAV_mean) & (newmdf[\"RELAFFIL\"] > RELAFFIL_mean)"
   ]
  },
  {
   "cell_type": "code",
   "execution_count": 42,
   "id": "f1e383a7",
   "metadata": {},
   "outputs": [
    {
     "data": {
      "text/plain": [
       "(20, 8)"
      ]
     },
     "execution_count": 42,
     "metadata": {},
     "output_type": "execute_result"
    }
   ],
   "source": [
    "newmdf[target_places].shape"
   ]
  },
  {
   "cell_type": "markdown",
   "id": "a4ec2f8b",
   "metadata": {},
   "source": [
    "Now the number schools has been narrowed down to 20 from 8687. "
   ]
  },
  {
   "cell_type": "code",
   "execution_count": null,
   "id": "9cf8eba0",
   "metadata": {},
   "outputs": [],
   "source": []
  }
 ],
 "metadata": {
  "kernelspec": {
   "display_name": "Python 3",
   "language": "python",
   "name": "python3"
  },
  "language_info": {
   "codemirror_mode": {
    "name": "ipython",
    "version": 3
   },
   "file_extension": ".py",
   "mimetype": "text/x-python",
   "name": "python",
   "nbconvert_exporter": "python",
   "pygments_lexer": "ipython3",
   "version": "3.8.8"
  }
 },
 "nbformat": 4,
 "nbformat_minor": 5
}
